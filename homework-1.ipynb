{
 "cells": [
  {
   "cell_type": "markdown",
   "metadata": {},
   "source": [
    "# Homework 1 - ORF finding: how many genes are in the SARS-Cov-2 genome?\n",
    "\n",
    "Severe acute respiratory syndrome coronavirus 2 (SARS-CoV-2) is a strain of coronavirus that causes COVID-19. Throughout these homework assignments, we will analyze this virus and try to understand its origins and inner workings. We will implement the necessary bioinformatics tools and apply them to further our understanding of this pesky little virus.\n",
    "\n",
    "First, we will analyze the main component of every organism - its genetic material. Our focus will be on the genes, parts of the genetic material that code for proteins. Proteins are the main macromolecular actors in every organism.\n",
    "\n",
    "**Why are we so interested in genes?**\n",
    "\n",
    "Genes dictate the behavior of an organism, such as replication, viral assembly, and even innate immune evasion. If we compare the genes from this new virus with genes from other known viruses, we can get a good idea of how this virus works and maybe even how to stop it. When these genes are translated into proteins, they start acting out their function. Some proteins can attach to human cells and allow viruses to enter them. If we can figure out which genes these are, they will make good candidates for drug targets.\n",
    "\n",
    "We can find potential genes in a genome by looking for common patterns shared across all genes. However, validating that these potential candidates are, in fact, real genes requires experimental confirmation.\n",
    "\n",
    "**The aim of this homework**\n",
    "\n",
    "In this homework, our goal is to find potential genes in the SARS-CoV-2 genome and take a first stab at figuring out what their corresponding proteins do. When looking for genes in an unknown genome, we consider all the Open Reading Frames (ORFs) as potential gene candidates. However, many of our ORFs will not be true genes, and since each ORF must be experimentally validated in the lab, we will try to reduce the number of ORFs only to include the most likely gene candidates. We heard in lectures that one approach for filtering ORFs is to perform a permutation test to determine a threshold indicating the minimum length of ORFs. This will reduce the number of false positives that we generate. So, our approach might be to first find the ORFs, remove ORFs that are likely too short, and then determine what each ORF might do.\n",
    "\n",
    "However, before we jump right into the SARS-CoV-2 genome, we first want to convince ourselves that this is, in fact, a reasonable approach that produces good results. Since we are going to pretend that SARS-CoV-2 is an unknown virus, we can't check our results to see if they are correct. So instead, we will validate our approach on one of the most well-understood organisms in existence: _E. Coli_. Here, we will be able to check how many of our ORFs are true genes and how well our threshold selection method actually works.\n",
    "\n",
    "Once we've convinced ourselves that this is, in fact, a good approach, we will start exploring the SARS-CoV-2 genome. Finally, once we have found and filtered our coronavirus ORFs, we will implement a simple classification technique to determine the function of their corresponding proteins. We will explore computational techniques for determining protein function in the next homework.\n"
   ]
  },
  {
   "cell_type": "code",
   "execution_count": 1,
   "metadata": {},
   "outputs": [],
   "source": [
    "from Bio import Entrez, SeqIO"
   ]
  },
  {
   "cell_type": "markdown",
   "metadata": {},
   "source": [
    "Let's let the nice folks at NCBI know who we are."
   ]
  },
  {
   "cell_type": "code",
   "execution_count": 2,
   "metadata": {},
   "outputs": [],
   "source": [
    "Entrez.email = \"jn64824@student.uni-lj.si\""
   ]
  },
  {
   "cell_type": "code",
   "execution_count": 3,
   "metadata": {},
   "outputs": [],
   "source": [
    "# In order to import from the `helper_functions` python file without hassle, we add the current\n",
    "# directory to the python path\n",
    "import sys; sys.path.append(\".\")"
   ]
  },
  {
   "cell_type": "markdown",
   "metadata": {},
   "source": [
    "## _Escherichia coli_"
   ]
  },
  {
   "cell_type": "markdown",
   "metadata": {},
   "source": [
    "\n",
    "[_Escherichia coli_](https://en.wikipedia.org/wiki/Escherichia_coli) (_E. Coli_) is a bacteria commonly found in the human intestine. Most strains are harmless to humans, at worse, causing food poisoning and diarrhea. They can survive outside a host for only a short period of time, making it a potential indicator of fecal contamination.\n",
    "\n",
    "Over the years, _E. Coli_ has been intensely studied and is probably one of the most well-understood organisms in existence. We've learned how to grow them in an optimal environment where they can reproduce up to once every 20 minutes. Due to their rapid growth and easy manipulation, biologists often use them to produce recombinant proteins.\n",
    "\n",
    "![](https://upload.wikimedia.org/wikipedia/commons/4/40/E.coli-colony-growth.gif)\n",
    "\n",
    "Image source: https://doi.org/10.1371/journal.pbio.0030045\n",
    "\n",
    "Recombinant proteins are proteins that wouldn't naturally appear in that organism. For instance, we can insert genes that code for fluorescence into plants, making them glow in the dark. Or, perhaps more usefully, we can take the human gene that codes for insulin and convince _E. Coli_ to produce insulin instead. Insulin that we can then use to treat diabetic patients. Or proteins used in cancer treatment. Or, more recently, we can insert fragments of the SARS-CoV-2 virus into _E. Coli_ and use that to produce COVID-19 vaccines.\n",
    "\n",
    "![](https://static.dezeen.com/uploads/2014/01/American-firm-genetically-engineers-worlds-first-glow-in-the-dark-plant-_dezeen_4.jpg)\n",
    "\n",
    "Image source: [Discover magazine](https://www.discovermagazine.com/planet-earth/for-sale-plants-that-glow-in-the-dark)\n",
    "\n",
    "_E. coli_ is a very well-studied organism, therefore, well-annotated. This means we can quickly check our work for any analysis we might perform because we have the ground truth, which biologists have spent decades meticulously gathering for us. We will examine the DNA sequence of _E. coli_ and implement an algorithm for finding potential gene candidates. Because the ground truth is readily available, we can check how many of our ORF candidates are actual genes and how many candidates are false positives."
   ]
  },
  {
   "cell_type": "markdown",
   "metadata": {},
   "source": [
    "Every organism in NCBI has an associated unique identifier, which we can use to download various genomes and other kinds of data. The NCBI ID for _E. coli_ is _NC_000913_."
   ]
  },
  {
   "cell_type": "code",
   "execution_count": 4,
   "metadata": {},
   "outputs": [],
   "source": [
    "organism_id = \"NC_000913\"  # E. coli"
   ]
  },
  {
   "cell_type": "markdown",
   "metadata": {},
   "source": [
    "Fetch the _E. coli_ genome from NCBI. To check you have the right one, the genome should be 4,641,652 base pairs long. It might take up-to a minute to download.\n",
    "\n",
    "_Hint_: Use the `Entrez.efetch` (http://biopython.org/DIST/docs/tutorial/Tutorial.html#sec149) and `SeqIO.read` (http://biopython.org/DIST/docs/tutorial/Tutorial.html#sec37) functions from biopython.\n",
    "Use `rettype=\"gbwithparts\"` to fetch all required features."
   ]
  },
  {
   "cell_type": "code",
   "execution_count": 5,
   "metadata": {},
   "outputs": [],
   "source": [
    "record_ecoli = SeqIO.read(Entrez.efetch(db=\"nucleotide\", id=organism_id, rettype=\"gbwithparts\", retmode=\"text\"), \"genbank\")\n",
    "n = len(record_ecoli.seq)"
   ]
  },
  {
   "cell_type": "markdown",
   "metadata": {},
   "source": [
    "## Problem 1: Finding gene candidates\n",
    "\n",
    "Before we get started, we need to implement an algorithm for finding all open reading frames (ORFs) in a given genome. We define an ORF as the longest contiguous sequence of triplets (codons) between a start and a stop codon. For instance, TTATGAAAATGAAATGATT contains one ORF -- ATGAAAATGAAATGA spanning from locations 2 to 17.\n",
    "\n",
    "**TASK:**\n",
    "Implement the `find_orfs` and `find_all_orfs` functions in `helper_functions.py`. Function `find_orfs` should find ORFs for a single offset e.g. [ATGTAATGTTGATTA]TG, ignoring the final TG. `find_all_orfs` should use `find_orfs` to find _all_ the ORFs in a sequence, i.e. [ATGTAATGTTGATTA]TG, A[TGTAATGTTGATTAT]G, AT[GTAATGTTGATTATG], as well as the ORFs on the reverse complements. See the docstrings for expected return types.\n",
    "\n",
    "Returned ORFs should be of the form (strand, start_loc, stop_loc). Here, start_loc and stop_loc correspond to the starting and ending locations of the ORFs and not necessarily to the START and STOP codons. For instance, if the ORF is on the negative strand, the start_loc location should refer to the position of the STOP codon. The start_loc should always be smaller than stop_loc for ORFs at either strand.\n",
    "The strand should be indicated by either 1 for the reference strand and -1 for its reverse complement. We consider stop codons as part of an ORFs. The positions of ORFs on the reverse complement strand should specified according to the reference strand.\n",
    "\n",
    "**[10 points]**\n",
    "\n",
    "_Hint_: You can check your implementation on the _E. Coli_ genome, where the number of ORFs on the positive and negative strands should be roughly equal."
   ]
  },
  {
   "cell_type": "code",
   "execution_count": 6,
   "metadata": {},
   "outputs": [
    {
     "data": {
      "text/plain": [
       "[(0, 15)]"
      ]
     },
     "execution_count": 6,
     "metadata": {},
     "output_type": "execute_result"
    }
   ],
   "source": [
    "from helper_functions import find_all_orfs, find_orfs\n",
    "\n",
    "seq = \"ATGAAAATGAAATGATT\"\n",
    "start_codons = [\"ATG\"]\n",
    "stop_codons = [\"TAA\", \"TGA\", \"TAG\"]\n",
    "#orfs = find_all_orfs(record_ecoli.seq[:300000], start_codons, stop_codons)\n",
    "#print(sum([1 for (i, _, _) in orfs if i == 1]), sum([1 for (i, _, _) in orfs if i == -1]))\n",
    "find_orfs(seq, start_codons, stop_codons)"
   ]
  },
  {
   "cell_type": "code",
   "execution_count": null,
   "metadata": {},
   "outputs": [],
   "source": []
  },
  {
   "cell_type": "markdown",
   "metadata": {},
   "source": [
    "## Problem 2: Finding true genes\n",
    "\n",
    "Having implemented our ORF finder, we can now apply it to the _E. Coli_ genome to find the ORFs, i.e., gene candidates. You will see that there are quite a large number of these. Some of them might be actual genes, and some may not. In practice, biologists will often look through each gene candidate manually to determine if it is a gene or not. We want to help them by reducing the number of ORFs they'll have to look through. One way to reduce this number is to set a threshold for our ORF lengths. As you saw in lectures, we can determine a sensible threshold using a permutation test.\n",
    "\n",
    "**TASK:**\n",
    "\n",
    "**a)** Find all the ORFs in the _E. Coli_ genome. Determine a reasonable threshold for filtering short ORFs using a permutation test with 100 repetitions such that we keep only sequences with $p < 0.01$. Plot a histogram of the distribution of ORF lengths in these random sequences using the log scale for the y-axis. The x-axis, corresponding to ORF lengths, should not be shown in log scale. Overlay the histogram with the ORF lengths you found using your ORF finder. Clearly indicate the permutation test threshold on your plot. Save your threshold into the `bacteria_threshold` variable and save your plot into `problem2-permutation.png`. All ORF lengths and thresholds should be reported in codons.\n",
    "\n",
    "**[5 points]**\n",
    "\n",
    "Note that the _E. coli_ permutation test might run up to an hour on some computers. In bioinformatics, it is very common to have to wait a long time for results to compute since we generally deal with large amounts of data. Efficient implementations and caching can help a great deal.\n",
    "\n",
    "_Hint_: For plotting, you can use the [`hist`](https://matplotlib.org/stable/api/_as_gen/matplotlib.pyplot.hist.html) function from [matplotlib](https://matplotlib.org/stable/index.html)."
   ]
  },
  {
   "cell_type": "code",
   "execution_count": 7,
   "metadata": {},
   "outputs": [
    {
     "name": "stdout",
     "output_type": "stream",
     "text": [
      "101\n"
     ]
    }
   ],
   "source": [
    "import numpy as np\n",
    "\n",
    "start_codons = [\"ATG\"]\n",
    "stop_codons = [\"TGA\", \"TAA\", \"TAG\"]\n",
    "\n",
    "def permute_counts(seq, start_codons, stop_codons, n = 100):\n",
    "    seq_list = list(seq)\n",
    "    lengths = []\n",
    "    for _ in range(n):\n",
    "        np.random.shuffle(seq_list)\n",
    "        orfs = find_all_orfs(\"\".join(seq_list), start_codons, stop_codons)\n",
    "        for (_, x, y) in orfs: lengths.append((y - x) // 3)\n",
    "    return lengths\n",
    "\n",
    "def determine_threshold(lenghts):\n",
    "    values, counts = np.unique(lenghts, return_counts=True)\n",
    "    total = np.sum(counts)\n",
    "    for i in range(len(counts)):\n",
    "        if np.sum(counts[i:]) / total < 0.01:\n",
    "            threshold = values[i]\n",
    "            break\n",
    "    return threshold\n",
    "\n",
    "res = permute_counts(record_ecoli.seq, start_codons, stop_codons)\n",
    "print(determine_threshold(res))"
   ]
  },
  {
   "cell_type": "code",
   "execution_count": 8,
   "metadata": {},
   "outputs": [],
   "source": [
    "true_orfs = find_all_orfs(record_ecoli.seq, start_codons, stop_codons)\n",
    "orf_lengths = [(y - x) // 3 for (_, x, y) in true_orfs]"
   ]
  },
  {
   "cell_type": "code",
   "execution_count": 9,
   "metadata": {},
   "outputs": [
    {
     "data": {
      "text/plain": [
       "<matplotlib.lines.Line2D at 0x2681eec5bb0>"
      ]
     },
     "execution_count": 9,
     "metadata": {},
     "output_type": "execute_result"
    },
    {
     "data": {
      "image/png": "[encoded data removed]",
      "text/plain": [
       "<Figure size 640x480 with 1 Axes>"
      ]
     },
     "metadata": {},
     "output_type": "display_data"
    }
   ],
   "source": [
    "import matplotlib.pyplot as plt\n",
    "\n",
    "\n",
    "#print(np.sum(np.array(orf_lengths) > 1500), np.sum(np.array(values) > 1500))\n",
    "bins = range(1500)\n",
    "plt.hist(res, bins = bins, alpha = 0.4)\n",
    "plt.hist(orf_lengths, bins = bins, alpha = 0.4)\n",
    "plt.semilogy()\n",
    "plt.axvline(x = 101, color = 'r', linewidth=0.5, alpha = 0.7)"
   ]
  },
  {
   "cell_type": "code",
   "execution_count": 10,
   "metadata": {},
   "outputs": [],
   "source": [
    "bacteria_threshold = 101"
   ]
  },
  {
   "cell_type": "markdown",
   "metadata": {},
   "source": [
    "Is this a good threshold? As we said in the beginning, _E. coli_ is a well-studied organism, so we can easily evaluate our filtering proceedure with the ground truth. We can use many metrics to evaluate our accuracy, but here, we will focus on three: precision, recall, and the F1 score. Please consult Wikipedia if you aren't familiar with these metrics. To calculate each metric, we first have to apply our chosen threshold to our found ORFs, removing ORFs that are too short. Using the ground truth ORFs, we can then identify true positives, false positives, true negatives, and false negatives.\n",
    "\n",
    "**TASK:**\n",
    "\n",
    "**b)** Could a different threshold give better precision/recall/F1 scores? Generate a list of possible thresholds and compute precision/recall/F1 scores for each threshold. Show all three metrics into a single plot. The x-axis should correspond to the threshold (in codons) and the y-axis to the evaluation metric scores. Based on these metrics, can you determine a better threshold? Clearly indicate your suggested threshold as well as the threshold suggested by the permutation test in the plot. Save the resulting figure to `problem2-proc.png`.\n",
    "\n",
    "Then, based on your plot, answer the following questions:\n",
    "- Is the threshold determined by the permutation test reasonable? Explain your answer.\n",
    "- What would we be the advange of using a higher and a lower threshold value? Explain your reasoning.\n",
    "\n",
    "Store your answers in the `permutation_threshold_reasonable` and `different_thresholds` variables, respectively.\n",
    "\n",
    "**[5 points]**"
   ]
  },
  {
   "cell_type": "markdown",
   "metadata": {},
   "source": [
    "The true ORFs can be extracted from the Biopython record object using the provided `extract_gt_orfs` function in `helper_functions.py`."
   ]
  },
  {
   "cell_type": "code",
   "execution_count": 11,
   "metadata": {},
   "outputs": [
    {
     "name": "stdout",
     "output_type": "stream",
     "text": [
      "Extracting ORFs from NCBI annotation...\n",
      "3870 ground truth ORFs found\n"
     ]
    }
   ],
   "source": [
    "from helper_functions import extract_gt_orfs\n",
    "\n",
    "print(\"Extracting ORFs from NCBI annotation...\")\n",
    "orfs_gt = extract_gt_orfs(record_ecoli, start_codons, stop_codons, verbose=False)\n",
    "print(f\"{len(orfs_gt)} ground truth ORFs found\")"
   ]
  },
  {
   "cell_type": "code",
   "execution_count": 12,
   "metadata": {},
   "outputs": [
    {
     "name": "stdout",
     "output_type": "stream",
     "text": [
      "(865, 0, 147)\n"
     ]
    }
   ],
   "source": [
    "found_orf_set = set(true_orfs)\n",
    "points = range(2000)\n",
    "true_orfs = find_all_orfs(record_ecoli.seq, start_codons, stop_codons)\n",
    "\n",
    "def metrics(threshold):\n",
    "    orf_set = set([(_, x, y) for (_, x, y) in true_orfs if (y - x) / 3 >= threshold])\n",
    "    true_positives = orf_set.intersection(orfs_gt)\n",
    "    if len(orf_set) == 0: precision = 0\n",
    "    else: precision = len(true_positives) / len(orf_set)\n",
    "    recall = len(true_positives) / len(orfs_gt)\n",
    "    if (precision + recall) == 0: f1 = 0\n",
    "    else: f1 = (2 * precision * recall) / (precision + recall)\n",
    "    return [precision, recall, f1]\n",
    "\n",
    "results = [(t, metrics(t)) for t in points]\n",
    "best_results = (max(results, key=lambda x : x[1][0])[0], max(results, key=lambda x : x[1][1])[0], max(results, key=lambda x : x[1][2])[0])\n",
    "print(best_results)"
   ]
  },
  {
   "cell_type": "code",
   "execution_count": 13,
   "metadata": {},
   "outputs": [
    {
     "data": {
      "text/plain": [
       "<matplotlib.lines.Line2D at 0x2681f60e570>"
      ]
     },
     "execution_count": 13,
     "metadata": {},
     "output_type": "execute_result"
    },
    {
     "data": {
      "image/png": "[encoded data removed]",
      "text/plain": [
       "<Figure size 640x480 with 1 Axes>"
      ]
     },
     "metadata": {},
     "output_type": "display_data"
    }
   ],
   "source": [
    "results = [metrics(t) for t in points]\n",
    "precision, recall, f1 = [y[0] for y in results], [y[1] for y in results], [y[2] for y in results]\n",
    "plt.plot(points, precision, color=\"orange\")\n",
    "plt.plot(points, recall, color=\"b\")\n",
    "plt.plot(points, f1, color=\"green\")\n",
    "plt.axvline(x = 101, color = 'r', linewidth=0.7, alpha = 0.7)\n",
    "plt.axvline(x = 147, color = 'm', linewidth=0.7, alpha = 0.7)"
   ]
  },
  {
   "cell_type": "code",
   "execution_count": 14,
   "metadata": {},
   "outputs": [],
   "source": [
    "permutation_threshold_reasonable = \"\"\"\n",
    "The permutation threshold is used here as an estimate for a reasonable threshold.\n",
    "If out target metric is F1 score then it is not the best possible threshold.\n",
    "But as the ground truth values are usually not available we must use some estimate and the value is not so different from the optimal threshold.\n",
    "\"\"\""
   ]
  },
  {
   "cell_type": "code",
   "execution_count": 15,
   "metadata": {},
   "outputs": [],
   "source": [
    "different_thresholds = \"\"\"\n",
    "As can be seen in the plot, a higher threshold would improve precision and a lower threshold would improve recall.\n",
    "If we wanted to have more true ORFs in our data disregarding the number of false ORFs then we would optimise for recall.\n",
    "If we wanted to have as the best  \n",
    "\"\"\""
   ]
  },
  {
   "cell_type": "markdown",
   "metadata": {},
   "source": [
    "# SARS-CoV-2\n",
    "\n",
    "SARS-CoV-2 is the prolific virus that causes the COVID-19 disease. We am sure most of you are well aware of what the disease does, so we'll skip any long-winded introduction. Instead, we'll jump straight into the genome of this pesky little virus.\n",
    "\n",
    "![](https://www.klinika-golnik.si/storage/_sites/golnik/app/media/Novice/cov-19.jpg)\n",
    "\n",
    "Image source: [klinika-golnik.si]()"
   ]
  },
  {
   "cell_type": "markdown",
   "metadata": {},
   "source": [
    "## Problem 3: SARS-CoV-2 gene candidates\n",
    "\n",
    "Having convinced ourselves sufficiently that our gene-candidate-finding procedure produces reasonable results, we can now turn our attention to the SARS-CoV-2 genome, which can be found in `data/sars_cov_2.txt`. Remember, we have no ground truth annotations about SARS-CoV-2 from NCBI, so it's up to you to find potential gene candidates and try to determine what each gene does.\n",
    "\n",
    "**TASK:**\n",
    "Run your ORF finder on the SARS-CoV-2 genome. Again, using a permutation test with 100 repetitions, determine a threshold for ORF lengths such that we keep only sequences with $p < 0.01$. As in the _E. Coli_ case, plot the distribution of ORF lengths in the random sequences and overlay this on top of the ORF lengths. Clearly indicate the permutation test threshold on the plot. Save your plot to `problem3.png`. Save your threshold into the `covid_threshold` variable.\n",
    "\n",
    "Then, answer the following questions:\n",
    "- Is this threshold the same as the one you got for _E. coli_? Why or why not? *Hint: Inspect the distributions of nucleotides for each organism.*\n",
    "- Can we perform the same F1/precision/recall experiment as we did for _E. Coli_ for SARS-CoV-2? Why or why not?\n",
    "\n",
    "Store your answers in the `covid_different_thresholds` and `covid_proc_experiment` variables, respectively.\n",
    "\n",
    "**[5 points]**"
   ]
  },
  {
   "cell_type": "code",
   "execution_count": 16,
   "metadata": {},
   "outputs": [],
   "source": [
    "start_codons = [\"ATG\"]\n",
    "stop_codons = [\"TGA\", \"TAA\", \"TAG\"]"
   ]
  },
  {
   "cell_type": "code",
   "execution_count": 17,
   "metadata": {},
   "outputs": [
    {
     "name": "stdout",
     "output_type": "stream",
     "text": [
      "69\n",
      "(array(['A', 'C', 'G', 'T'], dtype='<U1'), array([8954, 5492, 5863, 9594], dtype=int64))\n",
      "(array(['A', 'C', 'G', 'T'], dtype='<U1'), array([1142742, 1180091, 1177437, 1141382], dtype=int64))\n"
     ]
    }
   ],
   "source": [
    "with open(\"data/sars_cov_2.txt\", \"r\") as file:\n",
    "    sequence = file.readline()\n",
    "\n",
    "res = permute_counts(sequence, start_codons, stop_codons)\n",
    "print(determine_threshold(res))\n",
    "print(np.unique(list(sequence), return_counts=True))\n",
    "print(np.unique(list(record_ecoli.seq), return_counts=True))"
   ]
  },
  {
   "cell_type": "code",
   "execution_count": null,
   "metadata": {},
   "outputs": [],
   "source": [
    "covid_threshold = 70"
   ]
  },
  {
   "cell_type": "code",
   "execution_count": null,
   "metadata": {},
   "outputs": [],
   "source": [
    "covid_different_thresholds = \"\"\"\n",
    "Is this threshold the same as the one you got for E. coli? Why or why not?\n",
    "\"\"\""
   ]
  },
  {
   "cell_type": "code",
   "execution_count": null,
   "metadata": {},
   "outputs": [],
   "source": [
    "covid_proc_experiment = \"\"\"\n",
    "We can't. There is no ground truth ORFs to compare to.\n",
    "\"\"\""
   ]
  },
  {
   "cell_type": "markdown",
   "metadata": {},
   "source": [
    "## Problem 4: Determining gene functionality from amino acid sequence\n",
    "\n",
    "Okay, so we've found and filtered down our gene candidates, but now what? The next step is to figure out what these genes might do. So, what _do_ these genes do? Well, nothing by themselves. If DNA is the cookbook, then the genes are the recipes. They tell us how to prepare each dish. Recipes by themselves are nothing but information. It is the actual dishes we care about: the proteins. It is the proteins that actually _do_ things inside our cells.\n",
    "\n",
    "An organism can read codons in ORFs (hence open-READING-frame) and translate the language of codons into amino acids. Codons in a DNA sequence are translated into amino acids consecutively, forming a long chain. The amino acid chain folds into a macromolecule called protein (as shown in the picture below). Their 3D structure is crucial for their function.\n",
    "We can predict protein characteristics from the amino acid sequence, such as their location in a cell. However, for a more concrete prediction of the functionality, we would have to use more sophisticated approaches, such as BLAST or AlphaFold.\n",
    "\n",
    "![](https://upload.wikimedia.org/wikipedia/commons/thumb/a/a9/Protein_folding.png/360px-Protein_folding.png)\n",
    "\n",
    "Image source: [Wikipedia](https://en.wikipedia.org/wiki/Protein_folding#/media/File:Protein_folding.png)\n",
    "\n",
    "**Intro to hydrophobicity**\n",
    "\n",
    "The hydrophobicity of an amino acid is its tendency to repel water molecules. These amino acids tend to stick together in a non-polar environment. One well-known example of hydrophobicity is the lipid membrane of cells. This hydrophobic cell membrane ensures that the environment outside the cell (water and anything inside that water) stays outside, and all the important bits of the cell (e.g., the mitochondria, nucleus, ribosomes) stay inside the cell.\n",
    "\n",
    "![](https://i.pinimg.com/originals/5f/44/ac/5f44ac7665a7c003342dca018ce23077.jpg)\n",
    "\n",
    "Image source: [Pinterest](https://www.pinterest.com/pin/488007309597008815/)\n",
    "\n",
    "Hydrophilic proteins cannot pass through the hydrophobic membrane since its hydrophobic interior will repel them, but hydrophobic proteins can sit happily embedded inside the membrane. These hydrophobic proteins are called _transmembrane_ proteins. Transmembrane proteins typically function as transport channels between the interior and exterior of the cell and enable cell signaling and absorption. In the case of viruses, e.g., SARS-CoV-2, we expect at least some proteins to be embedded in the viral membrane. For instance, SARS-CoV-2 viruses can only enter human cells when the spike protein that sticks out on the exterior of the virus binds to a specific receptor in human cells.\n",
    "\n",
    "![](https://o.quizlet.com/qBs-A5bu4m1ZI4IdWv1OUA_b.png)\n",
    "\n",
    "Image source: [Quizlet](https://quizlet.com/331498946/structure-of-transmembrane-proteins-diagram/)\n",
    "\n",
    "Transmembrane proteins usually contain more hydrophobic amino acids than other proteins because their environment is a strictly hydrophobic lipid membrane. Therefore, one naive approach to finding transmembrane proteins might be to look for proteins with a high degree of hydrophobicity.\n",
    "\n",
    "\n",
    "The less-biological explanation of all this might be that the little, yellow hydrophobic tails of the lipids in the membrane attract each other because they are all hydrophobic. They can also attract proteins, provided that the amino acids inside that protein are also hydrophobic. The little hydrophobic tails also repel anything hydrophilic, so hydrophilic proteins can't pass through the hydrophobic membrane. So, simply put, hydrophobic molecules attract other hydrophobic molecules and repel any hydrophilic molecules. Finally, hydrophobic molecules repel water, while hydrophilic molecules are drawn toward water."
   ]
  },
  {
   "cell_type": "markdown",
   "metadata": {},
   "source": [
    "**TASK**:\n",
    "\n",
    "**a)** Implement the `translate_to_protein` function in `helper_functions.py`. Do not use Biopython for this in this homework -- we want you to implement this yourself.\n",
    "\n",
    "A few notes about your implementation:\n",
    "- Stop codons should translate into an empty string (\"\"). This is different to Biopython's implementation, which translates stop codons into asterisks.\n",
    "- To make your implementation as general as possible, you should not assume that the input sequence begins and ends with a start and stop codon, respectively. Additionally, in case you encounter a stop codon inside the sequence, translate it appropriately and continue translating the rest of the nucleotide sequence into the same output string.\n",
    "\n",
    "**[5 points]**"
   ]
  },
  {
   "cell_type": "code",
   "execution_count": null,
   "metadata": {},
   "outputs": [],
   "source": [
    "from helper_functions import translate_to_protein"
   ]
  },
  {
   "cell_type": "markdown",
   "metadata": {},
   "source": [
    "**b)** Use the function `extract_gt_orfs` from `helper_functions.py` with parameter `validate=False` to extract all available genes for _E. Coli_. Translate these ground truth genes to protein sequences and calculate their average hydrophobicity. The average protein hydrophobicity is calculated as the average hydrophobicity of all amino acids in the protein sequence. You can find the hydrophobicity values for each amino acid in `data/aminoacid_properties.csv`.\n",
    "\n",
    "Next, find, filter, and translate the ORFs (found by your ORF finder and filtered according to the permutation test threshold) in the SARS-CoV-2 genome and calculate the average hydrophobicity of these potential proteins.\n",
    "\n",
    "Plot the distribution of the average hydrophobicities for all proteins found in _E. coli_. Overlay this distribution with a scatter plot of the hydrophobicity values of your SARS-CoV-2 protein candidates. Save the resulting figure to `problem4.png`.\n",
    "\n",
    "Inspect the distribution of the bacterial proteins. Are there proteins that seem to have a larger hydrophobicity than others? If so, these would probably be good candidates for transmembrane proteins. Compare these to the hydrophobicities of the SARS-CoV-2 proteins you showed with a scatter plot. Are there any proteins in the SARS-CoV-2 genome that we could classify as transmembrane proteins just by referencing the distribution of bacterial proteins? If so, save the ORFs you think may correspond to transmembrane proteins to the `transmembrane_candidates` variable.\n",
    "\n",
    "*Hint: you should be able to find between 2-4 transmembrane protein candidates in the SARS-CoV-2 genome.*\n",
    "\n",
    "**[10 points]**"
   ]
  },
  {
   "cell_type": "code",
   "execution_count": null,
   "metadata": {},
   "outputs": [],
   "source": [
    "transmembrane_candidates = [\n",
    "    (-1, 1000, 2000),  # don't forget to remove this example ORF!\n",
    "]"
   ]
  },
  {
   "cell_type": "markdown",
   "metadata": {},
   "source": [
    "## Bonus problem: Visualizing ORF candidates\n",
    "\n",
    "You may have noticed in problem 2 that even when keeping all the genes, our recall was well below 1. This means that even without any filtering, we weren't able to find all the ORFs that are actually genes. The reason for this is that we defined ORFs to be the longest contiguous sequence of codons between a start and a stop codon. This is a simplification of what really happens in biology. Not all start codons actually determine the beginning of a coding (gene) sequence. ORFs themselves can contain start codons since the ATG codon itself codes for Methionine. To be completely thorough, each start codon should start its own ORF.\n",
    "\n",
    "In this exercise, we will define an ORF to be **any** contiguous sequence of codons between a start and a stop codon. For instance, ATGAAAATGAAATGA now contains two ORFs: ATGAAAATGAAATGA and ATGAAATGA.\n",
    "\n",
    "**TASK**: Implement the `find_all_orfs_nested` function in `helper_functions.py`, following the above definition of an ORF. Visualize where the ORF candidates are found on the SARS-CoV-2 genome. Save your plot to `problem-orf-viz.png`.\n",
    "\n",
    "You can look at this image for a general direction: https://www.ncbi.nlm.nih.gov/nuccore/NC_002549.1?report=graph. Take care to optimize the layout and make the plot as compact as possible while still being readable and visually appealing. If you have a different idea for an informative visualization, that's even better. Feel free to apply any kind of filtering to the ORFs in your plot.\n",
    "\n",
    " **[5 points]**"
   ]
  },
  {
   "cell_type": "code",
   "execution_count": null,
   "metadata": {},
   "outputs": [],
   "source": []
  },
  {
   "cell_type": "markdown",
   "metadata": {},
   "source": [
    "## Bonus problem: How big are viruses?\n",
    "\n",
    "How does SARS-CoV-2 compare to other viruses? Is it a small virus or a large virus? We can't really say without a reference. Thankfully, NCBI has us covered. NCBI Virus is a subset of NCBI dedicated only to viral sequences. To determine the size of SARS-CoV-2, we'll download a bunch of viral sequences and compare the lengths of their genomes. We could also compare other things, e.g., the number of genes, but, for the purposes of this homework, it's sufficient to compare the sequence lengths.\n",
    "\n",
    "**TASK**: Download all virus genome metadata from [NCBI Virus](https://www.ncbi.nlm.nih.gov/labs/virus/vssi/#/virus). There are between 10,000 to 15,000 of them (you don't need to download the full 10GB of sequence data for this exercise).\n",
    "\n",
    "Answer the following two questions:\n",
    "\n",
    "1. Which viruses are typically longer -- DNA or RNA viruses? Why?\n",
    "2. Is SARS-CoV-2 among the longer or shorter RNA viruses? Can you find any biological mechanisms to explain this?\n",
    "\n",
    "Try to find biological mechanisms to explain each answer.\n",
    "\n",
    "For each question, create an informative visualization showing the distribution of the relevant virus sequence lengths. Clearly indicate the length of the SARS-CoV-2 virus in each plot. Save your figures to `problem-virus-size-rna-dna.png` and `problem-virus-size-sars-cov-2.png`, respectively. Use these visualizations to inform your answers.\n",
    "Provide written answers and explanations in the `rna_dna_virus_longer` and `sars_cov_2_is_long` variables, respectively.\n",
    "\n",
    "**[4 points]**"
   ]
  },
  {
   "cell_type": "code",
   "execution_count": null,
   "metadata": {},
   "outputs": [],
   "source": [
    "rna_dna_virus_longer = \"\"\"\n",
    "Which viruses are typically longer -- DNA or RNA viruses? Why?\n",
    "\"\"\""
   ]
  },
  {
   "cell_type": "code",
   "execution_count": null,
   "metadata": {},
   "outputs": [],
   "source": [
    "sars_cov_2_is_long = \"\"\"\n",
    "Is SARS-CoV-2 among the longer or shorter RNA viruses? Can you find any biological mechanisms to explain this?\n",
    "\"\"\""
   ]
  }
 ],
 "metadata": {
  "kernelspec": {
   "display_name": "base",
   "language": "python",
   "name": "python3"
  },
  "language_info": {
   "codemirror_mode": {
    "name": "ipython",
    "version": 3
   },
   "file_extension": ".py",
   "mimetype": "text/x-python",
   "name": "python",
   "nbconvert_exporter": "python",
   "pygments_lexer": "ipython3",
   "version": "3.12.7"
  }
 },
 "nbformat": 4,
 "nbformat_minor": 4
}
